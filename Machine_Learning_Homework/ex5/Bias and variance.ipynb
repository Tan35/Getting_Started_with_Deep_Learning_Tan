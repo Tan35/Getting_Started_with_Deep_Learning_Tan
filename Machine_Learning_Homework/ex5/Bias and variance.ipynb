{
 "cells": [
  {
   "cell_type": "markdown",
   "metadata": {},
   "source": [
    "## 了解算法性能中的偏差和方差概念\n",
    "+ 案例：利用水库水位变化预测大坝出水量\n",
    "+ 数据集：ex5data1.mat\n",
    "\n",
    "![image.png](<https://i.typlog.com/tanxy/8336422276_571583.png>)\n",
    "![image.png](<https://i.typlog.com/tanxy/8336422177_1643095.png>)"
   ]
  },
  {
   "cell_type": "code",
   "execution_count": 46,
   "metadata": {
    "collapsed": true
   },
   "outputs": [],
   "source": [
    "import numpy as np\n",
    "import matplotlib.pyplot as plt\n",
    "from scipy.io import loadmat\n",
    "from scipy.optimize import minimize"
   ]
  },
  {
   "cell_type": "code",
   "execution_count": 48,
   "metadata": {},
   "outputs": [
    {
     "data": {
      "text/plain": [
       "dict_keys(['__header__', '__version__', '__globals__', 'X', 'y', 'Xtest', 'ytest', 'Xval', 'yval'])"
      ]
     },
     "execution_count": 48,
     "metadata": {},
     "output_type": "execute_result"
    }
   ],
   "source": [
    "data = loadmat('ex5data1.mat')\n",
    "data.keys()"
   ]
  },
  {
   "cell_type": "code",
   "execution_count": 49,
   "metadata": {},
   "outputs": [
    {
     "data": {
      "text/plain": [
       "((12, 1), (12, 1))"
      ]
     },
     "execution_count": 49,
     "metadata": {},
     "output_type": "execute_result"
    }
   ],
   "source": [
    "# 训练集\n",
    "X_train, y_train = data['X'], data['y']\n",
    "X_train.shape, y_train.shape"
   ]
  },
  {
   "cell_type": "code",
   "execution_count": 50,
   "metadata": {},
   "outputs": [
    {
     "data": {
      "text/plain": [
       "((21, 1), (21, 1))"
      ]
     },
     "execution_count": 50,
     "metadata": {},
     "output_type": "execute_result"
    }
   ],
   "source": [
    "# 验证集\n",
    "X_val, y_val = data['Xval'], data['yval']\n",
    "X_val.shape, y_val.shape"
   ]
  },
  {
   "cell_type": "code",
   "execution_count": 51,
   "metadata": {},
   "outputs": [
    {
     "data": {
      "text/plain": [
       "((21, 1), (21, 1))"
      ]
     },
     "execution_count": 51,
     "metadata": {},
     "output_type": "execute_result"
    }
   ],
   "source": [
    "# 测试集\n",
    "X_test, y_test = data['Xtest'], data['ytest']\n",
    "X_test.shape, y_test.shape"
   ]
  },
  {
   "cell_type": "code",
   "execution_count": 52,
   "metadata": {},
   "outputs": [
    {
     "data": {
      "text/plain": [
       "array([[  1.        , -15.93675813],\n",
       "       [  1.        , -29.15297922],\n",
       "       [  1.        ,  36.18954863],\n",
       "       [  1.        ,  37.49218733],\n",
       "       [  1.        , -48.05882945],\n",
       "       [  1.        ,  -8.94145794],\n",
       "       [  1.        ,  15.30779289],\n",
       "       [  1.        , -34.70626581],\n",
       "       [  1.        ,   1.38915437],\n",
       "       [  1.        , -44.38375985],\n",
       "       [  1.        ,   7.01350208],\n",
       "       [  1.        ,  22.76274892]])"
      ]
     },
     "execution_count": 52,
     "metadata": {},
     "output_type": "execute_result"
    }
   ],
   "source": [
    "# 添加常数列\n",
    "X_train = np.insert(X_train,0,1,axis=1)\n",
    "X_val  = np.insert(X_val,0,1,axis=1)\n",
    "X_test = np.insert(X_test,0,1,axis=1)\n",
    "# X_train.shape, X_val.shape, X_test.shape, \n",
    "X_train"
   ]
  },
  {
   "cell_type": "code",
   "execution_count": 53,
   "metadata": {
    "collapsed": true
   },
   "outputs": [],
   "source": [
    "# 对训练集的数据做一个线性回归看看效果\n",
    "def plot_data():\n",
    "    fig,ax = plt.subplots()\n",
    "    ax.scatter(X_train[:,1],y_train)\n",
    "    ax.set(xlabel='change in water level(x)', ylabel='water flowing out og the dam(y)')"
   ]
  },
  {
   "cell_type": "code",
   "execution_count": 54,
   "metadata": {},
   "outputs": [
    {
     "data": {
      "image/png": "[encoded data removed]",
      "text/plain": [
       "<Figure size 432x288 with 1 Axes>"
      ]
     },
     "metadata": {
      "needs_background": "light"
     },
     "output_type": "display_data"
    }
   ],
   "source": [
    "plot_data()"
   ]
  },
  {
   "cell_type": "code",
   "execution_count": 55,
   "metadata": {
    "collapsed": true
   },
   "outputs": [],
   "source": [
    "def reg_cost(theta,X,y,lamda):\n",
    "    \n",
    "    cost = np.sum(np.power((X@theta - y.flatten()),2)) # 为什么要 flatten() 因为 theta 是一维数组，而 X @ theta-y ...\n",
    "    \n",
    "    reg = theta[1:]@theta[1:]*lamda\n",
    "    \n",
    "    return (cost + reg) / (2 * len(X))"
   ]
  },
  {
   "cell_type": "code",
   "execution_count": 59,
   "metadata": {},
   "outputs": [
    {
     "data": {
      "text/plain": [
       "303.9931922202643"
      ]
     },
     "execution_count": 59,
     "metadata": {},
     "output_type": "execute_result"
    }
   ],
   "source": [
    "theta = np.ones(X_train.shape[1])\n",
    "lamda = 1\n",
    "reg_cost(theta,X_train,y_train,lamda)"
   ]
  },
  {
   "cell_type": "code",
   "execution_count": 60,
   "metadata": {
    "collapsed": true
   },
   "outputs": [],
   "source": [
    "def reg_gradient(theta,X,y,lamda):\n",
    "    \n",
    "    grad = (X@theta-y.flatten())@X\n",
    "    reg = lamda * theta\n",
    "    reg[0] = 0\n",
    "    \n",
    "    return (grad+reg) / len(X)"
   ]
  },
  {
   "cell_type": "code",
   "execution_count": 61,
   "metadata": {},
   "outputs": [
    {
     "data": {
      "text/plain": [
       "array([-15.30301567, 598.25074417])"
      ]
     },
     "execution_count": 61,
     "metadata": {},
     "output_type": "execute_result"
    }
   ],
   "source": [
    "reg_gradient(theta,X_train,y_train,lamda)"
   ]
  },
  {
   "cell_type": "code",
   "execution_count": 65,
   "metadata": {
    "collapsed": true
   },
   "outputs": [],
   "source": [
    "def train_model(X,y,lamda):\n",
    "    \n",
    "    theta = np.ones(X.shape[1])\n",
    "    \n",
    "    res = minimize(fun=reg_cost,\n",
    "                  x0=theta,\n",
    "                  args=(X,y,lamda),\n",
    "                  method='TNC',\n",
    "                  jac=reg_gradient)\n",
    "    \n",
    "    return res.x # 返回优化好的 theta 值"
   ]
  },
  {
   "cell_type": "code",
   "execution_count": 66,
   "metadata": {},
   "outputs": [],
   "source": [
    "theta_final = train_model(X_train,y_train,lamda=0)"
   ]
  },
  {
   "cell_type": "code",
   "execution_count": 69,
   "metadata": {},
   "outputs": [
    {
     "data": {
      "image/png": "[encoded data removed]",
      "text/plain": [
       "<Figure size 432x288 with 1 Axes>"
      ]
     },
     "metadata": {
      "needs_background": "light"
     },
     "output_type": "display_data"
    }
   ],
   "source": [
    "plot_data()\n",
    "plt.plot(X_train[:,1],X_train@theta_final,c='r')\n",
    "plt.show() # 可以看出现在处于欠拟合状态，目前偏差非常大"
   ]
  },
  {
   "cell_type": "markdown",
   "metadata": {},
   "source": [
    "## 任务：从训练样本从 1 开始递增进行训练，比较训练集和验证集上的损失函数的变化情况"
   ]
  },
  {
   "cell_type": "code",
   "execution_count": 109,
   "metadata": {
    "collapsed": true
   },
   "outputs": [],
   "source": [
    "def plot_learning_curve(X_train,y_train,X_val,y_val,lamda):\n",
    "    \n",
    "    x = range(1, len(X_train)+1) # + 1 是因为 range 取不到最后一个\n",
    "    training_cost = []\n",
    "    cv_cost = []\n",
    "    \n",
    "    for i in x:\n",
    "        res = train_model(X_train[:i,:],y_train[:i,:],lamda)\n",
    "        training_cost_i = reg_cost(res,X_train[:i,:],y_train[:i,:],lamda)\n",
    "        cv_cost_i = reg_cost(res,X_val,y_val,lamda)\n",
    "        training_cost.append(training_cost_i)\n",
    "        cv_cost.append(cv_cost_i)\n",
    "        \n",
    "    plt.plot(x,training_cost,label='training cost')\n",
    "    plt.plot(x,cv_cost,label='cv cost')\n",
    "    plt.legend()\n",
    "    plt.xlabel('number of training examples')\n",
    "    plt.ylabel('error')\n",
    "    plt.show()"
   ]
  },
  {
   "cell_type": "code",
   "execution_count": 110,
   "metadata": {},
   "outputs": [
    {
     "data": {
      "image/png": "[encoded data removed]",
      "text/plain": [
       "<Figure size 432x288 with 1 Axes>"
      ]
     },
     "metadata": {
      "needs_background": "light"
     },
     "output_type": "display_data"
    }
   ],
   "source": [
    "plot_learning_curve(X_train,y_train,X_val,y_val,lamda=0)\n",
    "# 随着样本增加，训练集损失函数的变化以及验证集的变化\n",
    "# 可以看出样本比较少的时候，训练误差比较小，但是验证集误差比较大，因为还没从样本学出什么东西来\n",
    "# 但是随着样本个数增多，验证集误差下降\n",
    "# 可以从下图看出随着样本增多，最终训练集和验证集的误差还是比较大，因为这是一个高偏差的模型\n",
    "# 即该模型欠拟合"
   ]
  },
  {
   "cell_type": "markdown",
   "metadata": {},
   "source": [
    "简单的线性模型造成了欠拟合\n",
    "\n",
    "![image.png](<https://i.typlog.com/tanxy/8336418788_112964.png>)"
   ]
  },
  {
   "cell_type": "markdown",
   "metadata": {},
   "source": [
    "## 任务：构造多项式特征，进行多项式回归"
   ]
  },
  {
   "cell_type": "code",
   "execution_count": 111,
   "metadata": {
    "collapsed": true
   },
   "outputs": [],
   "source": [
    "def poly_feature(X,power):\n",
    "    \n",
    "    for i in range(2, power+1):\n",
    "        X = np.insert(X,X.shape[1],np.power(X[:,1],i),axis=1)\n",
    "    return X"
   ]
  },
  {
   "cell_type": "code",
   "execution_count": 112,
   "metadata": {},
   "outputs": [],
   "source": [
    "def get_means_stds(X):\n",
    "    \n",
    "    means = np.mean(X,axis=0)\n",
    "    stds = np.std(X,axis=0)\n",
    "    return means, stds"
   ]
  },
  {
   "cell_type": "code",
   "execution_count": 113,
   "metadata": {
    "collapsed": true
   },
   "outputs": [],
   "source": [
    "# 特征归一化\n",
    "def feature_normalize(X,means,stds):\n",
    "    X[:,1:] = (X[:,1:] - means[1:]) / stds[1:]\n",
    "    \n",
    "    return X"
   ]
  },
  {
   "cell_type": "code",
   "execution_count": 114,
   "metadata": {
    "collapsed": true
   },
   "outputs": [],
   "source": [
    "power = 6"
   ]
  },
  {
   "cell_type": "code",
   "execution_count": 115,
   "metadata": {},
   "outputs": [],
   "source": [
    "X_train_poly = poly_feature(X_train,power)\n",
    "X_val_poly = poly_feature(X_val,power)\n",
    "X_test_poly = poly_feature(X_test,power)"
   ]
  },
  {
   "cell_type": "code",
   "execution_count": 116,
   "metadata": {},
   "outputs": [],
   "source": [
    "train_means, train_stds = get_means_stds(X_train_poly)"
   ]
  },
  {
   "cell_type": "code",
   "execution_count": 117,
   "metadata": {},
   "outputs": [],
   "source": [
    "X_train_norm = feature_normalize(X_train_poly,train_means,train_stds)\n",
    "X_val_norm = feature_normalize(X_val_poly,train_means,train_stds)\n",
    "X_test_norm = feature_normalize(X_test_poly,train_means,train_stds)"
   ]
  },
  {
   "cell_type": "code",
   "execution_count": 118,
   "metadata": {
    "collapsed": true
   },
   "outputs": [],
   "source": [
    "theta_fit = train_model(X_train_norm,y_train,lamda=0)"
   ]
  },
  {
   "cell_type": "code",
   "execution_count": 119,
   "metadata": {
    "collapsed": true
   },
   "outputs": [],
   "source": [
    "def plot_poly_fit():\n",
    "    plot_data()\n",
    "    x = np.linspace(-60,60,100)\n",
    "    xx = x.reshape(100,1)\n",
    "    xx = np.insert(xx,0,1,axis=1)\n",
    "    xx = poly_feature(xx,power)\n",
    "    xx = feature_normalize(xx,train_means,train_stds)\n",
    "    \n",
    "    plt.plot(x,xx@theta_fit,'r--')"
   ]
  },
  {
   "cell_type": "code",
   "execution_count": 120,
   "metadata": {},
   "outputs": [
    {
     "data": {
      "image/png": "[encoded data removed]",
      "text/plain": [
       "<Figure size 432x288 with 1 Axes>"
      ]
     },
     "metadata": {
      "needs_background": "light"
     },
     "output_type": "display_data"
    }
   ],
   "source": [
    "plot_poly_fit()"
   ]
  },
  {
   "cell_type": "code",
   "execution_count": 122,
   "metadata": {},
   "outputs": [
    {
     "data": {
      "image/png": "[encoded data removed]",
      "text/plain": [
       "<Figure size 432x288 with 1 Axes>"
      ]
     },
     "metadata": {
      "needs_background": "light"
     },
     "output_type": "display_data"
    }
   ],
   "source": [
    "plot_learning_curve(X_train_norm,y_train,X_val_norm,y_val,lamda=0)"
   ]
  },
  {
   "cell_type": "code",
   "execution_count": 123,
   "metadata": {},
   "outputs": [
    {
     "data": {
      "image/png": "[encoded data removed]",
      "text/plain": [
       "<Figure size 432x288 with 1 Axes>"
      ]
     },
     "metadata": {
      "needs_background": "light"
     },
     "output_type": "display_data"
    }
   ],
   "source": [
    "plot_learning_curve(X_train_norm,y_train,X_val_norm,y_val,lamda=1)"
   ]
  },
  {
   "cell_type": "code",
   "execution_count": 124,
   "metadata": {},
   "outputs": [
    {
     "data": {
      "image/png": "[encoded data removed]",
      "text/plain": [
       "<Figure size 432x288 with 1 Axes>"
      ]
     },
     "metadata": {
      "needs_background": "light"
     },
     "output_type": "display_data"
    }
   ],
   "source": [
    "plot_learning_curve(X_train_norm,y_train,X_val_norm,y_val,lamda=100)"
   ]
  },
  {
   "cell_type": "code",
   "execution_count": 125,
   "metadata": {
    "collapsed": true
   },
   "outputs": [],
   "source": [
    "# 一般来说 lamda 过小，模型容易过拟合；lamda 过大，模型容易欠拟合"
   ]
  },
  {
   "cell_type": "code",
   "execution_count": 128,
   "metadata": {},
   "outputs": [],
   "source": [
    "lamdas = [0,0.001,0.003,0.01,0.03,0.1,0.3,1,3,10]\n",
    "training_cost = []\n",
    "cv_cost = []\n",
    "\n",
    "for lamda in lamdas:\n",
    "    res = train_model(X_train_norm,y_train,lamda)\n",
    "    \n",
    "    tc = reg_cost(res,X_train_norm,y_train,lamda=0)\n",
    "    cv = reg_cost(res,X_val_norm,y_val,lamda=0)\n",
    "    \n",
    "    training_cost.append(tc)\n",
    "    cv_cost.append(cv)"
   ]
  },
  {
   "cell_type": "code",
   "execution_count": 130,
   "metadata": {},
   "outputs": [
    {
     "data": {
      "image/png": "[encoded data removed]",
      "text/plain": [
       "<Figure size 432x288 with 1 Axes>"
      ]
     },
     "metadata": {
      "needs_background": "light"
     },
     "output_type": "display_data"
    }
   ],
   "source": [
    "plt.plot(lamdas,training_cost,label='training cost')\n",
    "plt.plot(lamdas,cv_cost,label='cv cost')\n",
    "plt.legend()\n",
    "\n",
    "plt.show()"
   ]
  },
  {
   "cell_type": "code",
   "execution_count": 131,
   "metadata": {},
   "outputs": [
    {
     "data": {
      "text/plain": [
       "3"
      ]
     },
     "execution_count": 131,
     "metadata": {},
     "output_type": "execute_result"
    }
   ],
   "source": [
    "lamdas[np.argmin(cv_cost)]"
   ]
  },
  {
   "cell_type": "code",
   "execution_count": 135,
   "metadata": {},
   "outputs": [
    {
     "name": "stdout",
     "output_type": "stream",
     "text": [
      "4.397616167106991\n"
     ]
    }
   ],
   "source": [
    "res = train_model(X_train_norm,y_train,lamda=3)\n",
    "test_cost = reg_cost(res,X_test_norm,y_test,lamda=0)\n",
    "print(test_cost) # 测试集上的误差"
   ]
  }
 ],
 "metadata": {
  "kernelspec": {
   "display_name": "issactan",
   "language": "python",
   "name": "issactan"
  },
  "language_info": {
   "codemirror_mode": {
    "name": "ipython",
    "version": 3
   },
   "file_extension": ".py",
   "mimetype": "text/x-python",
   "name": "python",
   "nbconvert_exporter": "python",
   "pygments_lexer": "ipython3",
   "version": "3.8.3"
  }
 },
 "nbformat": 4,
 "nbformat_minor": 2
}
