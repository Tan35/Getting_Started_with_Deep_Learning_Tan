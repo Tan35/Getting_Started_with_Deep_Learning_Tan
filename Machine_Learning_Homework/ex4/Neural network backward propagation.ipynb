{
 "cells": [
  {
   "cell_type": "markdown",
   "metadata": {},
   "source": [
    "## 神经网络解决多分类问题\n",
    "+ 案例：手写数字识别\n",
    "+ 数据集：ex4data1.mat\n",
    "+ 初始参数：ex4weights.mat\n",
    "+ <mark>在 ex3 Homework 里面，我们是已经给定了最优的一个权重参数，作为 theta 代入到前向传播中，然后算得最终的预测值即可，而在 ex4 Homework 中我们需要搭建完整的一个神经网络，并且自己去进行训练，找到优化的权重参数</mark>\n",
    "+ **前向传播计算出了输出值（也即预测值），就可以根据输出值与目标值的差别来计算损失loss。反向传播就是根据损失函数loss来反方向地计算每一层的偏导数，从最后一层逐层向前去改变每一层的权重，也就是更新参数，核心就是损失函数对每一网络层的每一个参数求偏导的链式求导法则。**\n"
   ]
  },
  {
   "cell_type": "code",
   "execution_count": 4,
   "metadata": {
    "collapsed": true
   },
   "outputs": [],
   "source": [
    "import numpy as np\n",
    "import scipy.io as sio\n",
    "import matplotlib.pyplot as plt\n",
    "from scipy.optimize import minimize"
   ]
  },
  {
   "cell_type": "code",
   "execution_count": 7,
   "metadata": {},
   "outputs": [
    {
     "data": {
      "text/plain": [
       "{'__header__': b'MATLAB 5.0 MAT-file, Platform: GLNXA64, Created on: Sun Oct 16 13:09:09 2011',\n",
       " '__version__': '1.0',\n",
       " '__globals__': [],\n",
       " 'X': array([[0., 0., 0., ..., 0., 0., 0.],\n",
       "        [0., 0., 0., ..., 0., 0., 0.],\n",
       "        [0., 0., 0., ..., 0., 0., 0.],\n",
       "        ...,\n",
       "        [0., 0., 0., ..., 0., 0., 0.],\n",
       "        [0., 0., 0., ..., 0., 0., 0.],\n",
       "        [0., 0., 0., ..., 0., 0., 0.]]),\n",
       " 'y': array([[10],\n",
       "        [10],\n",
       "        [10],\n",
       "        ...,\n",
       "        [ 9],\n",
       "        [ 9],\n",
       "        [ 9]], dtype=uint8)}"
      ]
     },
     "execution_count": 7,
     "metadata": {},
     "output_type": "execute_result"
    }
   ],
   "source": [
    "data = sio.loadmat('ex4data1.mat')\n",
    "data"
   ]
  },
  {
   "cell_type": "code",
   "execution_count": 15,
   "metadata": {},
   "outputs": [
    {
     "data": {
      "text/plain": [
       "((5000, 400), (5000, 1))"
      ]
     },
     "execution_count": 15,
     "metadata": {},
     "output_type": "execute_result"
    }
   ],
   "source": [
    "# 数据预处理\n",
    "raw_X = data['X']\n",
    "raw_y = data['y']\n",
    "raw_X.shape, raw_y.shape"
   ]
  },
  {
   "cell_type": "code",
   "execution_count": 16,
   "metadata": {},
   "outputs": [
    {
     "data": {
      "text/plain": [
       "(array([[1., 0., 0., ..., 0., 0., 0.],\n",
       "        [1., 0., 0., ..., 0., 0., 0.],\n",
       "        [1., 0., 0., ..., 0., 0., 0.],\n",
       "        ...,\n",
       "        [1., 0., 0., ..., 0., 0., 0.],\n",
       "        [1., 0., 0., ..., 0., 0., 0.],\n",
       "        [1., 0., 0., ..., 0., 0., 0.]]),\n",
       " (5000, 401))"
      ]
     },
     "execution_count": 16,
     "metadata": {},
     "output_type": "execute_result"
    }
   ],
   "source": [
    "X = np.insert(raw_X, 0, values=1, axis=1)\n",
    "X, X.shape"
   ]
  },
  {
   "cell_type": "code",
   "execution_count": 13,
   "metadata": {
    "collapsed": true
   },
   "outputs": [],
   "source": [
    "# 之前我们对 y 的处理是使用 flatten() 函数将 y 这个二维数组降低为一维数组，为了算最后的准确率比较方便\n",
    "# 但是我们这里将采用另外的方式"
   ]
  },
  {
   "cell_type": "markdown",
   "metadata": {},
   "source": [
    "## 1. 对 y 进行独热编码处理：one-hot 编码\n",
    "\n",
    "![image.png](<https://i.typlog.com/tanxy/8336448553_535999.png>)\n",
    "\n",
    "**y 里面的每一个数字将会由 10 个数字进行代替，且这 10 个数字的取值只能是 0 和 1**"
   ]
  },
  {
   "cell_type": "code",
   "execution_count": 28,
   "metadata": {
    "collapsed": true
   },
   "outputs": [],
   "source": [
    "def one_hot_encoder(raw_y):\n",
    "    \n",
    "    result = []\n",
    "    \n",
    "    for i in raw_y: \n",
    "        # i 的取值为 1- 10 (这里理解会好一点，raw_y 里面为 5000 个 1-10 的数字)\n",
    "        # for 循环里面的 i 指的是具体某 y 的值，而不是下标\n",
    "        # print(i)\n",
    "        y_temp = np.zeros(10)\n",
    "        y_temp[i-1] = 1   \n",
    "        # 这一步非常妙！！每一个 for 循环先初始化一个长度为 10 ，数值全为 0 的数组，然后对 raw_y 里面的每一个数字进行循环\n",
    "        # 假设这次扫描到的 raw_y 数值为 10，则我们令这次初始化数组的下标为 10-1=9 的位置为 1，那么就是[0,0,0,0,0,0,0,0,0,1] 刚好就是 10 的表示方法\n",
    "        # 假设这次扫描到的 raw_y 数值为 5，则我们令这次初始化数组的下标为 5-1=4 的位置为 1，那么就是[0,0,0,0,1,0,0,0,0,1] 刚好就是 5 的表示方法\n",
    "        #如此类推\n",
    "        \n",
    "        result.append(y_temp) # 每次循环将已经转换好的数组追加至 result 列表中\n",
    "        \n",
    "    return np.array(result) # 因为 result 本来是一个列表，我们要转换成数组形式"
   ]
  },
  {
   "cell_type": "code",
   "execution_count": 31,
   "metadata": {},
   "outputs": [
    {
     "data": {
      "text/plain": [
       "(array([[0., 0., 0., ..., 0., 0., 1.],\n",
       "        [0., 0., 0., ..., 0., 0., 1.],\n",
       "        [0., 0., 0., ..., 0., 0., 1.],\n",
       "        ...,\n",
       "        [0., 0., 0., ..., 0., 1., 0.],\n",
       "        [0., 0., 0., ..., 0., 1., 0.],\n",
       "        [0., 0., 0., ..., 0., 1., 0.]]),\n",
       " (5000, 10))"
      ]
     },
     "execution_count": 31,
     "metadata": {},
     "output_type": "execute_result"
    }
   ],
   "source": [
    "y = one_hot_encoder(raw_y)\n",
    "y, y.shape \n",
    "# 可以看出 raw_y 已经成功转换成独热编码的 y，并且从 y 的 shape 可以看出，原本 (5000,1) -> (5000,10) 原本每个 1~10 的数字已经成功转换成 只有 0和1 组成的长度为 10 的向量"
   ]
  },
  {
   "cell_type": "code",
   "execution_count": 38,
   "metadata": {},
   "outputs": [
    {
     "data": {
      "text/plain": [
       "((25, 401), (10, 26))"
      ]
     },
     "execution_count": 38,
     "metadata": {},
     "output_type": "execute_result"
    }
   ],
   "source": [
    "# 先读取权重参数\n",
    "theta = sio.loadmat('ex4weights.mat')\n",
    "theta1, theta2 = theta['Theta1'], theta['Theta2']\n",
    "theta1.shape, theta2.shape"
   ]
  },
  {
   "cell_type": "markdown",
   "metadata": {},
   "source": [
    "## 2.序列化权重参数\n",
    "> 为什么要序列化权重参数，因为我们后面使用 scipy optimize 子模块优化的时候，里面传入的 theta 是一维数组的形式，而我们现在的 theta1,theta2 是二维数组的形式，所以传进来的时候维度是不匹配的，包括后面的梯度向量也要处理成这样的形式"
   ]
  },
  {
   "cell_type": "code",
   "execution_count": 40,
   "metadata": {},
   "outputs": [],
   "source": [
    "# 所以我们干脆定义一个序列化的函数，方便处理 theta 和 梯度向量\n",
    "def serialize(a, b):\n",
    "    return np.append(a.flatten(), b.flatten())"
   ]
  },
  {
   "cell_type": "code",
   "execution_count": 41,
   "metadata": {
    "collapsed": true
   },
   "outputs": [],
   "source": [
    "theta_serialize = serialize(theta1, theta2)"
   ]
  },
  {
   "cell_type": "code",
   "execution_count": 44,
   "metadata": {},
   "outputs": [
    {
     "data": {
      "text/plain": [
       "array([-2.25623899e-02, -1.05624163e-08,  2.19414684e-09, ...,\n",
       "       -2.47795788e-01,  1.28009118e+00, -1.32752042e+00])"
      ]
     },
     "execution_count": 44,
     "metadata": {},
     "output_type": "execute_result"
    }
   ],
   "source": [
    "theta_serialize # 序列化后的 theta"
   ]
  },
  {
   "cell_type": "code",
   "execution_count": 46,
   "metadata": {},
   "outputs": [
    {
     "data": {
      "text/plain": [
       "(10285,)"
      ]
     },
     "execution_count": 46,
     "metadata": {},
     "output_type": "execute_result"
    }
   ],
   "source": [
    "theta_serialize.shape # 可验证，已经处理为一维数组"
   ]
  },
  {
   "cell_type": "markdown",
   "metadata": {},
   "source": [
    "## 3.解序列化权重参数"
   ]
  },
  {
   "cell_type": "code",
   "execution_count": 49,
   "metadata": {},
   "outputs": [],
   "source": [
    "def deserialize(theta_serialize):\n",
    "    theta1 = theta_serialize[:25*401].reshape(25,401)\n",
    "    theta2 = theta_serialize[25*401:].reshape(10,26)\n",
    "    return theta1, theta2"
   ]
  },
  {
   "cell_type": "code",
   "execution_count": 51,
   "metadata": {
    "collapsed": true
   },
   "outputs": [],
   "source": [
    "theta1, theta2 = deserialize(theta_serialize)"
   ]
  },
  {
   "cell_type": "code",
   "execution_count": 53,
   "metadata": {},
   "outputs": [
    {
     "data": {
      "text/plain": [
       "((25, 401), (10, 26))"
      ]
     },
     "execution_count": 53,
     "metadata": {},
     "output_type": "execute_result"
    }
   ],
   "source": [
    "theta1.shape, theta2.shape"
   ]
  },
  {
   "cell_type": "markdown",
   "metadata": {},
   "source": [
    "## 4.前向传播"
   ]
  },
  {
   "cell_type": "code",
   "execution_count": 55,
   "metadata": {
    "collapsed": true
   },
   "outputs": [],
   "source": [
    "# 定义激活函数 sigmoid 函数\n",
    "def sigmoid(z):\n",
    "    return 1 / (1 + np.exp(-z))"
   ]
  },
  {
   "cell_type": "code",
   "execution_count": 58,
   "metadata": {},
   "outputs": [],
   "source": [
    "# 前向传播函数\n",
    "def feed_forward(theta_serialize,X):\n",
    "    theta1, theta2 = deserialize(theta_serialize) # 解序列化\n",
    "    a1 = X\n",
    "    z2 = a1 @ theta1.T\n",
    "    a2 = sigmoid(z2)\n",
    "    a2 = np.insert(a2, 0, values=1, axis=1) # 记得添加偏置项常数列 1（因为这时的 shape 不一样）\n",
    "    z3 = a2 @ theta2.T\n",
    "    h = sigmoid(z3)\n",
    "    return a1,z2,a2,z3,h"
   ]
  },
  {
   "cell_type": "markdown",
   "metadata": {},
   "source": [
    "## 5.损失函数"
   ]
  },
  {
   "cell_type": "markdown",
   "metadata": {},
   "source": [
    "### 5-1 不带正则化的损失函数\n",
    "![image.png](<https://i.typlog.com/tanxy/8336429836_691473.png>)"
   ]
  },
  {
   "cell_type": "code",
   "execution_count": 62,
   "metadata": {
    "collapsed": true
   },
   "outputs": [],
   "source": [
    "def cost(theta_serialize,X,y):\n",
    "    a1,z2,a2,z3,h = feed_forward(theta_serialize,X)\n",
    "    J = -np.sum(y*np.log(h)+(1-y)*np.log(1-h)) / len(X)\n",
    "    return J"
   ]
  },
  {
   "cell_type": "code",
   "execution_count": 63,
   "metadata": {},
   "outputs": [
    {
     "data": {
      "text/plain": [
       "0.2876291651613189"
      ]
     },
     "execution_count": 63,
     "metadata": {},
     "output_type": "execute_result"
    }
   ],
   "source": [
    "# 查看不带正则化的损失函数的初始值\n",
    "cost(theta_serialize,X,y)"
   ]
  },
  {
   "cell_type": "markdown",
   "metadata": {},
   "source": [
    "### 5-2 带正则化的损失函数\n",
    "![image.png](<https://i.typlog.com/tanxy/8336429751_287485.png>)"
   ]
  },
  {
   "cell_type": "code",
   "execution_count": 70,
   "metadata": {
    "collapsed": true
   },
   "outputs": [],
   "source": [
    "def reg_cost(theta_serialize,X,y,lamda):\n",
    "    sum1 = np.sum(np.power(theta1[:,1:],2))\n",
    "    sum2 = np.sum(np.power(theta2[:,1:],2))\n",
    "    reg = (sum1 + sum2) * lamda / (2 *len(X))\n",
    "    return reg + cost(theta_serialize,X,y) # 加上不带正则化的"
   ]
  },
  {
   "cell_type": "code",
   "execution_count": 71,
   "metadata": {},
   "outputs": [
    {
     "data": {
      "text/plain": [
       "0.38376985909092365"
      ]
     },
     "execution_count": 71,
     "metadata": {},
     "output_type": "execute_result"
    }
   ],
   "source": [
    "# 查看给定初始值条件下带正则化的损失函数的初始值\n",
    "lamda = 1\n",
    "reg_cost(theta_serialize,X,y,lamda)"
   ]
  },
  {
   "cell_type": "markdown",
   "metadata": {},
   "source": [
    "## 6.反向传播"
   ]
  },
  {
   "cell_type": "markdown",
   "metadata": {},
   "source": [
    "### 6-1 无正则化的梯度"
   ]
  },
  {
   "cell_type": "code",
   "execution_count": 107,
   "metadata": {
    "collapsed": true
   },
   "outputs": [],
   "source": [
    "# sigmoid 函数的导数\n",
    "def sigmoid_gradient(z):\n",
    "    return sigmoid(z) * (1-sigmoid(z))"
   ]
  },
  {
   "cell_type": "code",
   "execution_count": 108,
   "metadata": {
    "collapsed": true
   },
   "outputs": [],
   "source": [
    "# 不带正则化的梯度\n",
    "def gradient(theta_serialize,X,y):\n",
    "    theta1, theta2 = deserialize(theta_serialize)\n",
    "    a1,z2,a2,z3,h = feed_forward(theta_serialize,X) # 进行前向传播\n",
    "    d3 = h - y\n",
    "    d2 = d3 @ theta2[:,1:] * sigmoid_gradient(z2)\n",
    "    D2 = (d3.T @ a2) / len(X) # 也是维度的问题，要转置一下\n",
    "    D1 = (d2.T @ a1) / len(X)\n",
    "    return serialize(D1, D2)"
   ]
  },
  {
   "cell_type": "markdown",
   "metadata": {},
   "source": [
    "### 6-3 带正则化的梯度"
   ]
  },
  {
   "cell_type": "code",
   "execution_count": 110,
   "metadata": {
    "collapsed": true
   },
   "outputs": [],
   "source": [
    "def reg_gradient(theta_serialize,X,y,lamda):\n",
    "    D = gradient(theta_serialize,X,y)\n",
    "    D1, D2 = deserialize(D)\n",
    "    \n",
    "    theta1, theta2 = deserialize(theta_serialize)\n",
    "    D1[:,1:] = D1[:,1:] + theta1[:,1:] * lamda / len(X)\n",
    "    D2[:,1:] = D2[:,1:] + theta2[:,1:] * lamda / len(X)\n",
    "    \n",
    "    return serialize(D1, D2)"
   ]
  },
  {
   "cell_type": "markdown",
   "metadata": {},
   "source": [
    "## 7.神经网络的优化"
   ]
  },
  {
   "cell_type": "code",
   "execution_count": 111,
   "metadata": {
    "collapsed": true
   },
   "outputs": [],
   "source": [
    "from scipy.optimize import minimize\n",
    "\n",
    "def nn_training(X,y):\n",
    "    \n",
    "    init_data = np.random.uniform(-0.5,0.5,10285)\n",
    "    res = minimize(fun = reg_cost,\n",
    "                  x0 = init_data,\n",
    "                  args = (X,y,lamda),\n",
    "                  method = 'TNC',\n",
    "                  jac = reg_gradient,\n",
    "                  options = {'maxiter':300} # 最大迭代次数 300 次\n",
    "                  )\n",
    "    return res"
   ]
  },
  {
   "cell_type": "code",
   "execution_count": 112,
   "metadata": {},
   "outputs": [
    {
     "name": "stderr",
     "output_type": "stream",
     "text": [
      "C:\\Users\\Administrator\\AppData\\Local\\Temp\\ipykernel_220\\4005477587.py:6: DeprecationWarning: 'maxiter' has been deprecated in favor of 'maxfun' and will be removed in SciPy 1.11.0.\n",
      "  res = minimize(fun = reg_cost,\n"
     ]
    }
   ],
   "source": [
    "lamda = 10\n",
    "res = nn_training(X,y)"
   ]
  },
  {
   "cell_type": "code",
   "execution_count": 113,
   "metadata": {
    "collapsed": true
   },
   "outputs": [],
   "source": [
    "raw_y = data['y'].reshape(5000,)"
   ]
  },
  {
   "cell_type": "code",
   "execution_count": 115,
   "metadata": {},
   "outputs": [
    {
     "data": {
      "text/plain": [
       "0.9402"
      ]
     },
     "execution_count": 115,
     "metadata": {},
     "output_type": "execute_result"
    }
   ],
   "source": [
    "_,_,_,_,h = feed_forward(res.x,X)\n",
    "y_pred = np.argmax(h,axis=1) + 1\n",
    "acc = np.mean(y_pred == raw_y)\n",
    "\n",
    "acc"
   ]
  },
  {
   "cell_type": "markdown",
   "metadata": {},
   "source": [
    "## 8.可视化隐藏层"
   ]
  },
  {
   "cell_type": "code",
   "execution_count": 118,
   "metadata": {
    "collapsed": true
   },
   "outputs": [],
   "source": [
    "def plot_hidden_layer(theta):\n",
    "    theta1,_ = deserialize(theta)\n",
    "    hidden_layer = theta1[:,1:] # 25,400\n",
    "    \n",
    "    \n",
    "    fig,ax = plt.subplots(ncols=5,nrows=5,figsize=(8,8),sharex=True,sharey=True)\n",
    "    \n",
    "    for r in range(5):\n",
    "        for c in range(5):\n",
    "            \n",
    "            ax[r,c].imshow(hidden_layer[5 * r + c].reshape(20,20).T,cmap='gray_r')\n",
    "            \n",
    "    plt.xticks([])\n",
    "    plt.yticks([])\n",
    "    \n",
    "    plt.show()"
   ]
  },
  {
   "cell_type": "code",
   "execution_count": 120,
   "metadata": {},
   "outputs": [
    {
     "data": {
      "image/png": "[encoded data removed]",
      "text/plain": [
       "<Figure size 576x576 with 25 Axes>"
      ]
     },
     "metadata": {},
     "output_type": "display_data"
    }
   ],
   "source": [
    "# 可视化\n",
    "plot_hidden_layer(res.x)\n",
    "# 表示隐藏层所学到的一些特征"
   ]
  }
 ],
 "metadata": {
  "kernelspec": {
   "display_name": "issactan",
   "language": "python",
   "name": "issactan"
  },
  "language_info": {
   "codemirror_mode": {
    "name": "ipython",
    "version": 3
   },
   "file_extension": ".py",
   "mimetype": "text/x-python",
   "name": "python",
   "nbconvert_exporter": "python",
   "pygments_lexer": "ipython3",
   "version": "3.8.3"
  }
 },
 "nbformat": 4,
 "nbformat_minor": 2
}
